{
 "cells": [
  {
   "cell_type": "code",
   "execution_count": null,
   "id": "82854671-e7ad-4ce0-bc66-a2b064afeef7",
   "metadata": {},
   "outputs": [],
   "source": [
    "import cv2\n",
    "import numpy as np\n",
    "import os\n",
    "from matplotlib import pyplot as plt\n",
    "import time\n",
    "import mediapipe as mp\n",
    "import os"
   ]
  },
  {
   "cell_type": "code",
   "execution_count": null,
   "id": "b21300f0-5649-4146-a621-b066f055d28a",
   "metadata": {
    "tags": []
   },
   "outputs": [],
   "source": [
    "actions = np.array(['namaste', 'hello', 'thanks', 'yes', 'no'])"
   ]
  },
  {
   "cell_type": "code",
   "execution_count": null,
   "id": "12659809-693b-4112-af19-f2a5b3946156",
   "metadata": {},
   "outputs": [],
   "source": [
    "from sklearn.model_selection import train_test_split"
   ]
  },
  {
   "cell_type": "code",
   "execution_count": null,
   "id": "f25eecf1-951b-44e7-b22d-173434c51f88",
   "metadata": {},
   "outputs": [],
   "source": [
    "from tensorflow.keras.utils import to_categorical\n"
   ]
  },
  {
   "cell_type": "code",
   "execution_count": null,
   "id": "44ec2648-1680-47fb-8875-fa24b10cbe1a",
   "metadata": {
    "scrolled": true
   },
   "outputs": [],
   "source": [
    "label_map = {label:num for num, label in enumerate(actions)}\n"
   ]
  },
  {
   "cell_type": "code",
   "execution_count": null,
   "id": "c3348cea-1a57-4f65-b448-d9c9383de5e3",
   "metadata": {},
   "outputs": [],
   "source": [
    "label_map\n"
   ]
  },
  {
   "cell_type": "code",
   "execution_count": null,
   "id": "1fb36538-8c0a-4a70-9984-7affdf863db1",
   "metadata": {},
   "outputs": [],
   "source": [
    "actions = np.array(['namaste', 'hello', 'thanks', 'yes', 'no'])\n",
    "DATA_PATH = os.path.join('MP_Data') \n",
    "sequence_length = 30\n",
    "sequences, labels = [], []\n",
    "for action in actions:\n",
    "    for sequence in np.array(os.listdir(os.path.join(DATA_PATH, action))).astype(int):\n",
    "        window = []\n",
    "        for frame_num in range(sequence_length):\n",
    "            res = np.load(os.path.join(DATA_PATH, action, str(sequence), \"{}.npy\".format(frame_num)))\n",
    "            window.append(res)\n",
    "        sequences.append(window)\n",
    "        labels.append(label_map[action])"
   ]
  },
  {
   "cell_type": "code",
   "execution_count": null,
   "id": "291a5972-4af2-4494-b2b4-3468317f8fe3",
   "metadata": {},
   "outputs": [],
   "source": [
    "np.array(sequences).shape\n"
   ]
  },
  {
   "cell_type": "code",
   "execution_count": null,
   "id": "95673e5f-e2f7-4ce4-aad3-39223b887166",
   "metadata": {},
   "outputs": [],
   "source": [
    "np.array(labels).shape\n"
   ]
  },
  {
   "cell_type": "code",
   "execution_count": null,
   "id": "b99ffdda-4f4e-43b1-9057-4ab6edb66972",
   "metadata": {},
   "outputs": [],
   "source": [
    "import numpy as np\n",
    "\n",
    "def custom_train_test_split(X, y, test_size=0.2, random_state=None):\n",
    "    if random_state is not None:\n",
    "        np.random.seed(random_state)\n",
    "\n",
    "    # Shuffle the indices\n",
    "    indices = np.arange(len(X))\n",
    "    np.random.shuffle(indices)\n",
    "\n",
    "    # Determine the number of samples for the test set\n",
    "    num_test_samples = int(test_size * len(X))\n",
    "\n",
    "    # Split the indices into training and test sets\n",
    "    test_indices = indices[:num_test_samples]\n",
    "    train_indices = indices[num_test_samples:]\n",
    "\n",
    "    # Split the data based on the indices\n",
    "    X_train, X_test = X[train_indices], X[test_indices]\n",
    "    y_train, y_test = y[train_indices], y[test_indices]\n",
    "\n",
    "    return X_train, X_test, y_train, y_test"
   ]
  },
  {
   "cell_type": "code",
   "execution_count": null,
   "id": "6611af82-9374-4497-b710-998d8ca45181",
   "metadata": {},
   "outputs": [],
   "source": [
    "X = np.array(sequences)\n"
   ]
  },
  {
   "cell_type": "code",
   "execution_count": null,
   "id": "7dfbbbeb-ab61-4815-9727-1be879b1db12",
   "metadata": {},
   "outputs": [],
   "source": [
    "X.shape\n"
   ]
  },
  {
   "cell_type": "code",
   "execution_count": null,
   "id": "3ffd19d9-bae6-470f-8b9b-692521ab61a3",
   "metadata": {},
   "outputs": [],
   "source": [
    "y = to_categorical(labels).astype(int)\n"
   ]
  },
  {
   "cell_type": "code",
   "execution_count": null,
   "id": "7f5e6e4b-11a1-4d6c-8ff8-74d007ec7057",
   "metadata": {
    "scrolled": true,
    "tags": []
   },
   "outputs": [],
   "source": [
    "y"
   ]
  },
  {
   "cell_type": "code",
   "execution_count": null,
   "id": "05d71a9f-4cbf-4003-aae6-a8c98a659c4d",
   "metadata": {},
   "outputs": [],
   "source": [
    "X_train, X_test, y_train, y_test = custom_train_test_split(X, y, test_size=0.05)\n"
   ]
  },
  {
   "cell_type": "code",
   "execution_count": null,
   "id": "49c5892c-3d3d-4bdc-bbc0-60fe2a583b86",
   "metadata": {},
   "outputs": [],
   "source": [
    "y_test.shape\n"
   ]
  },
  {
   "cell_type": "code",
   "execution_count": null,
   "id": "37783ad2-364a-4893-863b-050f2b8caea4",
   "metadata": {},
   "outputs": [],
   "source": [
    "X_train.shape"
   ]
  },
  {
   "cell_type": "code",
   "execution_count": null,
   "id": "c99e416e-ae09-4f21-9d86-b588cdf500c1",
   "metadata": {},
   "outputs": [],
   "source": [
    "X_test.shape"
   ]
  },
  {
   "cell_type": "code",
   "execution_count": null,
   "id": "c210d18e-f283-469c-bd11-a11335b9305b",
   "metadata": {},
   "outputs": [],
   "source": []
  },
  {
   "cell_type": "code",
   "execution_count": null,
   "id": "0141807e-56f3-47e5-8b71-69dfab0cc3be",
   "metadata": {},
   "outputs": [],
   "source": []
  },
  {
   "cell_type": "code",
   "execution_count": null,
   "id": "6251507f-1514-4a9a-8d6c-47c6641f4318",
   "metadata": {},
   "outputs": [],
   "source": [
    "y_train.shape"
   ]
  },
  {
   "cell_type": "code",
   "execution_count": null,
   "id": "b2f1b371-eb1c-4991-a652-8b713f7390b7",
   "metadata": {},
   "outputs": [],
   "source": []
  },
  {
   "cell_type": "raw",
   "id": "5698a287-7f2f-4d75-b5d3-255ed277c63e",
   "metadata": {},
   "source": [
    "#Next is rslrs_Model.ipynb"
   ]
  }
 ],
 "metadata": {
  "kernelspec": {
   "display_name": "rslrs_venv",
   "language": "python",
   "name": "rslrs_venv"
  },
  "language_info": {
   "codemirror_mode": {
    "name": "ipython",
    "version": 3
   },
   "file_extension": ".py",
   "mimetype": "text/x-python",
   "name": "python",
   "nbconvert_exporter": "python",
   "pygments_lexer": "ipython3",
   "version": "3.10.0"
  }
 },
 "nbformat": 4,
 "nbformat_minor": 5
}
