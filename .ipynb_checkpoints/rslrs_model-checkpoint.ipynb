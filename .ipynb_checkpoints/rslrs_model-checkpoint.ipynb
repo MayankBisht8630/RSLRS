{
 "cells": [
  {
   "cell_type": "markdown",
   "id": "eb14bf90-90ee-447d-aff8-f7209d85e755",
   "metadata": {},
   "source": [
    "LSTM MODEL"
   ]
  },
  {
   "cell_type": "code",
   "execution_count": null,
   "id": "669facfe-026f-4084-85c3-7b8c34958621",
   "metadata": {
    "tags": []
   },
   "outputs": [],
   "source": [
    "%run ./pre_processing.ipynb"
   ]
  },
  {
   "cell_type": "code",
   "execution_count": null,
   "id": "ba752cdd-3763-4e35-baa5-842c30672bfe",
   "metadata": {
    "tags": []
   },
   "outputs": [],
   "source": [
    "import os\n",
    "import cv2\n",
    "import numpy as np\n",
    "import os\n",
    "from matplotlib import pyplot as plt\n",
    "import time\n",
    "import mediapipe as mp"
   ]
  },
  {
   "cell_type": "code",
   "execution_count": null,
   "id": "8357b4b8-cf33-412c-af10-d3b6e9ef00db",
   "metadata": {},
   "outputs": [],
   "source": [
    "from tensorflow.keras.models import Sequential\n"
   ]
  },
  {
   "cell_type": "code",
   "execution_count": null,
   "id": "2e91494d-06b4-4d31-b13a-0eebed92b67a",
   "metadata": {},
   "outputs": [],
   "source": [
    "from tensorflow.keras.layers import LSTM, Dense\n"
   ]
  },
  {
   "cell_type": "code",
   "execution_count": null,
   "id": "5117ddc9-bbed-4f32-9689-11753ac85a8c",
   "metadata": {},
   "outputs": [],
   "source": [
    "from tensorflow.keras.callbacks import TensorBoard\n"
   ]
  },
  {
   "cell_type": "code",
   "execution_count": null,
   "id": "8e7da488-c132-4bf5-847a-4a2639352a4b",
   "metadata": {},
   "outputs": [],
   "source": [
    "log_dir = os.path.join('Logs')\n",
    "tb_callback = TensorBoard(log_dir=log_dir)"
   ]
  },
  {
   "cell_type": "code",
   "execution_count": null,
   "id": "7c39927f-eaa4-44c6-b00f-2f898a610d55",
   "metadata": {
    "tags": []
   },
   "outputs": [],
   "source": [
    "actions = np.array(['namaste', 'hello', 'thanks', 'yes', 'no'])"
   ]
  },
  {
   "cell_type": "code",
   "execution_count": null,
   "id": "41f148d9-6375-482d-a68c-161a031856b8",
   "metadata": {},
   "outputs": [],
   "source": [
    "model = Sequential()\n",
    "model.add(LSTM(64, return_sequences=True, activation='relu', input_shape=(30,1662)))\n",
    "model.add(LSTM(128, return_sequences=True, activation='relu'))\n",
    "model.add(LSTM(96, return_sequences=True, activation='relu'))\n",
    "model.add(LSTM(128, return_sequences=True, activation='relu'))\n",
    "model.add(LSTM(64, return_sequences=False, activation='relu'))\n",
    "model.add(Dense(64, activation='relu'))\n",
    "model.add(Dense(32, activation='relu'))\n",
    "model.add(Dense(actions.shape[0], activation='softmax'))"
   ]
  },
  {
   "cell_type": "code",
   "execution_count": null,
   "id": "0bc2f2fc-2727-4504-a29a-e72faf766466",
   "metadata": {},
   "outputs": [],
   "source": [
    "model.compile(optimizer='Adam', loss='categorical_crossentropy', metrics=['categorical_accuracy'])\n"
   ]
  },
  {
   "cell_type": "markdown",
   "id": "2e342a4c-81ed-42e5-a0b7-766ed3dcffa3",
   "metadata": {},
   "source": [
    "#Run this to execute training the model"
   ]
  },
  {
   "cell_type": "raw",
   "id": "4363dc85-add3-4f87-b14c-7a0e2fc4f7a5",
   "metadata": {
    "tags": []
   },
   "source": [
    "model.fit(X_train, y_train, epochs=1000, callbacks=[tb_callback])\n"
   ]
  },
  {
   "cell_type": "code",
   "execution_count": null,
   "id": "fd1b45a6-8d10-46b5-9c0c-f800f73cfbae",
   "metadata": {},
   "outputs": [],
   "source": [
    "model.summary()\n"
   ]
  },
  {
   "cell_type": "markdown",
   "id": "2d76bf0b-daeb-44db-9fb3-e6cd0d4878c5",
   "metadata": {},
   "source": [
    "# Make Predictions"
   ]
  },
  {
   "cell_type": "code",
   "execution_count": null,
   "id": "1c9e6bbd-8476-4acd-b20a-005cae38c650",
   "metadata": {},
   "outputs": [],
   "source": [
    "res = model.predict(X_test)\n"
   ]
  },
  {
   "cell_type": "code",
   "execution_count": null,
   "id": "bab3682a-6c2d-4247-872f-e6ea3788c4fa",
   "metadata": {},
   "outputs": [],
   "source": [
    "res"
   ]
  },
  {
   "cell_type": "code",
   "execution_count": null,
   "id": "1a4a1a47-85c7-4910-a3a5-f677e1c290d5",
   "metadata": {},
   "outputs": [],
   "source": [
    "actions[np.argmax(res[4])]\n"
   ]
  },
  {
   "cell_type": "code",
   "execution_count": null,
   "id": "be7402f1-88f1-4a2c-a9fb-1c2efabf78c1",
   "metadata": {},
   "outputs": [],
   "source": [
    "actions[np.argmax(y_test[4])]\n"
   ]
  },
  {
   "cell_type": "code",
   "execution_count": null,
   "id": "d8da78e6-5e9d-4271-ba4e-e615f701817a",
   "metadata": {},
   "outputs": [],
   "source": []
  },
  {
   "cell_type": "markdown",
   "id": "843d6cd6-bd47-4338-a8bb-49a4a9e5a56d",
   "metadata": {},
   "source": [
    "# Save weights"
   ]
  },
  {
   "cell_type": "code",
   "execution_count": null,
   "id": "323b3b51-dd11-4835-86d5-74ad5b2caae4",
   "metadata": {},
   "outputs": [],
   "source": [
    "model.save('action.h5')\n"
   ]
  },
  {
   "cell_type": "code",
   "execution_count": null,
   "id": "9262d7f2-f0c8-4130-87aa-c1b419794419",
   "metadata": {},
   "outputs": [],
   "source": []
  },
  {
   "cell_type": "code",
   "execution_count": null,
   "id": "c972518a-e6b9-45a0-a887-3e7b126def92",
   "metadata": {},
   "outputs": [],
   "source": [
    "model.load_weights('action.h5')"
   ]
  },
  {
   "cell_type": "markdown",
   "id": "fae3a534-9c79-4d07-be85-030c40318393",
   "metadata": {},
   "source": [
    "#Next Run rslrs_prediction.ipynb"
   ]
  },
  {
   "cell_type": "code",
   "execution_count": null,
   "id": "8e13791a-9680-42df-bcf4-3bb2a1c4ecfb",
   "metadata": {},
   "outputs": [],
   "source": []
  }
 ],
 "metadata": {
  "kernelspec": {
   "display_name": "rslrs_venv",
   "language": "python",
   "name": "rslrs_venv"
  },
  "language_info": {
   "codemirror_mode": {
    "name": "ipython",
    "version": 3
   },
   "file_extension": ".py",
   "mimetype": "text/x-python",
   "name": "python",
   "nbconvert_exporter": "python",
   "pygments_lexer": "ipython3",
   "version": "3.10.0"
  }
 },
 "nbformat": 4,
 "nbformat_minor": 5
}
