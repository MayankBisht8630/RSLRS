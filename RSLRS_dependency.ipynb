{
 "cells": [
  {
   "cell_type": "code",
   "execution_count": null,
   "id": "2decb127-7ddf-499d-bf1b-d91ba1486368",
   "metadata": {},
   "outputs": [],
   "source": []
  },
  {
   "cell_type": "code",
   "execution_count": null,
   "id": "fd895e08-6010-4311-b5d4-ed2033f43fdc",
   "metadata": {},
   "outputs": [],
   "source": []
  },
  {
   "cell_type": "code",
   "execution_count": null,
   "id": "7c42274d-fb63-49b4-a3f8-b003895d2bed",
   "metadata": {},
   "outputs": [],
   "source": [
    "!pip install tensorflow "
   ]
  },
  {
   "cell_type": "code",
   "execution_count": null,
   "id": "a28f405c-c94c-42df-b755-4b19d390356c",
   "metadata": {},
   "outputs": [],
   "source": []
  },
  {
   "cell_type": "code",
   "execution_count": null,
   "id": "84a72c7f-1db9-47f2-ae43-896039d59445",
   "metadata": {},
   "outputs": [],
   "source": [
    "!pip install mediapipe"
   ]
  },
  {
   "cell_type": "code",
   "execution_count": null,
   "id": "40083abb-efb1-4c07-8a64-a42db5e47073",
   "metadata": {},
   "outputs": [],
   "source": [
    "!pip install opencv-python"
   ]
  },
  {
   "cell_type": "code",
   "execution_count": null,
   "id": "dba65bfd-26c6-4a3a-b907-894422a397c0",
   "metadata": {},
   "outputs": [],
   "source": [
    "!pip install matplotlib "
   ]
  },
  {
   "cell_type": "code",
   "execution_count": null,
   "id": "64ccd1dc-aed6-434d-ad54-81344f024ced",
   "metadata": {},
   "outputs": [],
   "source": [
    "!pip install scikit-learn"
   ]
  },
  {
   "cell_type": "code",
   "execution_count": null,
   "id": "00dffab2-ed0b-44d9-900b-d2e8a176145f",
   "metadata": {},
   "outputs": [],
   "source": [
    "!pip install tensorflow-gpu"
   ]
  },
  {
   "cell_type": "code",
   "execution_count": null,
   "id": "ebd5c37d-1e02-4279-bc2c-aac5c2cec0d7",
   "metadata": {},
   "outputs": [],
   "source": [
    "!pip install scipy scikit-learn"
   ]
  },
  {
   "cell_type": "markdown",
   "id": "3c999df4-745a-477d-af8b-ae54f75bd36b",
   "metadata": {},
   "source": [
    "Next go to rslrs_main.ipynb"
   ]
  },
  {
   "cell_type": "code",
   "execution_count": null,
   "id": "ec39484a-2eb4-4dd4-b1f5-d338903b3895",
   "metadata": {},
   "outputs": [],
   "source": []
  }
 ],
 "metadata": {
  "kernelspec": {
   "display_name": "rslrs_venv",
   "language": "python",
   "name": "rslrs_venv"
  },
  "language_info": {
   "codemirror_mode": {
    "name": "ipython",
    "version": 3
   },
   "file_extension": ".py",
   "mimetype": "text/x-python",
   "name": "python",
   "nbconvert_exporter": "python",
   "pygments_lexer": "ipython3",
   "version": "3.10.0"
  }
 },
 "nbformat": 4,
 "nbformat_minor": 5
}
